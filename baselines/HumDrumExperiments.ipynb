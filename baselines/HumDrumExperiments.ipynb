{
 "cells": [
  {
   "cell_type": "code",
   "execution_count": null,
   "metadata": {},
   "outputs": [],
   "source": [
    "from scipy.interpolate import CubicSpline, CubicHermiteSpline\n",
    "import argparse\n",
    "import airsimneurips as airsim\n",
    "import cvxpy as cp\n",
    "import numpy as np\n",
    "import time\n",
    "import airsimneurips as airsim\n",
    "import gtp\n",
    "import baseline_racer\n",
    "import baseline_racer_gtp\n",
    "import hum_drum_racer\n",
    "%matplotlib inline\n",
    "import matplotlib.pyplot as plt"
   ]
  },
  {
   "cell_type": "code",
   "execution_count": null,
   "metadata": {},
   "outputs": [],
   "source": [
    "import track_defs\n",
    "gate_pose_dicts = track_defs.soccer_medium_gate_pose_dicts"
   ]
  },
  {
   "cell_type": "code",
   "execution_count": null,
   "metadata": {},
   "outputs": [],
   "source": [
    "gate_inner_dims_dict= {   'x_val': 1.6,\n",
    "    'y_val': 0.2,\n",
    "    'z_val': 1.6}\n",
    "gate_outer_dims_dict= {   'x_val': 2.1333333333333333,\n",
    "    'y_val': 0.2,\n",
    "    'z_val': 2.1333333333333333}"
   ]
  },
  {
   "cell_type": "code",
   "execution_count": null,
   "metadata": {},
   "outputs": [],
   "source": [
    "# airsim.Quaternionr(x_val,y_val,z_val,w_val) # quaternion ordering\n",
    "gate_poses = [\n",
    "    airsim.Pose(\n",
    "        airsim.Vector3r(\n",
    "            d['position']['x_val'],\n",
    "            d['position']['y_val'],\n",
    "            d['position']['z_val']\n",
    "#             d['position']['y_val'],\n",
    "#             d['position']['z_val'],\n",
    "#             d['position']['x_val']\n",
    "        ),\n",
    "        airsim.Quaternionr(\n",
    "            d['orientation']['x_val'],\n",
    "            d['orientation']['y_val'],\n",
    "            d['orientation']['z_val'],\n",
    "            d['orientation']['w_val']\n",
    "        )\n",
    "    ) for d in gate_pose_dicts\n",
    "]\n",
    "# gate_directions = [gtp.rotate_vector(g.orientation, airsim.Vector3r(1,0,0)) for g in gate_poses]\n",
    "gate_directions = [gtp.rotate_vector(g.orientation, airsim.Vector3r(0,1,0)) for g in gate_poses]\n",
    "# try rearranging the dimensions here:\n",
    "gate_inner_dims = airsim.Vector3r(\n",
    "    gate_inner_dims_dict['x_val'],\n",
    "    gate_inner_dims_dict['y_val'],\n",
    "    gate_inner_dims_dict['z_val'],\n",
    "#     gate_inner_dims_dict['y_val'],\n",
    "#     gate_inner_dims_dict['x_val'],\n",
    "#     gate_inner_dims_dict['z_val'],\n",
    ")\n",
    "gate_outer_dims = airsim.Vector3r(\n",
    "    gate_outer_dims_dict['x_val'],\n",
    "    gate_outer_dims_dict['y_val'],\n",
    "    gate_outer_dims_dict['z_val'],\n",
    "#     gate_outer_dims_dict['y_val'],\n",
    "#     gate_outer_dims_dict['x_val'],\n",
    "#     gate_outer_dims_dict['z_val'],\n",
    ")\n",
    "\n",
    "drone_names = [\"drone_1\", \"drone_2\"]\n",
    "drone_params = [\n",
    "    {\"r_safe\": 0.4,\n",
    "     \"r_coll\": 0.3,\n",
    "     \"v_max\": 20.0,\n",
    "     \"a_max\": 15.0},\n",
    "    {\"r_safe\": 0.4,\n",
    "     \"r_coll\": 0.3,\n",
    "     \"v_max\": 20.0,\n",
    "     \"a_max\": 15.0}]\n",
    "parser = argparse.ArgumentParser(description='')\n",
    "parser.add_argument('--dt', type=float, default=0.05)\n",
    "parser.add_argument('--dt_min', type=float, default=0.05)\n",
    "parser.add_argument('--r_safe', type=float, default=0.0)\n",
    "parser.add_argument('--v_max', type=float, default=80.0)\n",
    "parser.add_argument('--a_max', type=float, default=40.0)\n",
    "parser.add_argument('--n', type=int, default=14)\n",
    "parser.add_argument('--blocking_behavior', dest='blocking', action='store_true', default=False)\n",
    "parser.add_argument('--vel_constraints', dest='vel_constraints', action='store_true', default=False)\n",
    "parser.add_argument('--horizon', type=int, default=10)\n",
    "parser.add_argument('--no_resample', dest='resample', action='store_false', default=True)\n",
    "parser.add_argument('--replan_from_lookahead', dest='replan_from_lookahead', action='store_true', default=False)\n",
    "parser.add_argument('--plot_gtp', dest='plot_gtp', action='store_true', default=False)\n",
    "parser.add_argument('--level_name', type=str, choices=[\"Soccer_Field_Easy\", \"Soccer_Field_Medium\", \"ZhangJiaJie_Medium\", \"Building99_Hard\", \n",
    "    \"Qualifier_Tier_1\", \"Qualifier_Tier_2\", \"Qualifier_Tier_3\"], default=\"ZhangJiaJie_Medium\")\n",
    "parser.add_argument('--enable_viz_traj', dest='viz_traj', action='store_true', default=False)\n",
    "parser.add_argument('--race_tier', type=int, choices=[1,2,3], default=1)\n",
    "traj_params = parser.parse_known_args()[0]\n",
    "\n",
    "start_state = airsim.MultirotorState()\n",
    "start_state.kinematics_estimated.position = airsim.Vector3r(6.373129367828369, 81.43741607666016, -42.88162612915039)"
   ]
  },
  {
   "cell_type": "code",
   "execution_count": null,
   "metadata": {},
   "outputs": [],
   "source": [
    "start_state.kinematics_estimated.position.z_val += 3\n",
    "start_state.kinematics_estimated.position"
   ]
  },
  {
   "cell_type": "code",
   "execution_count": null,
   "metadata": {},
   "outputs": [],
   "source": [
    "controller = gtp.IBRController(traj_params,drone_params,gate_poses)"
   ]
  },
  {
   "cell_type": "code",
   "execution_count": null,
   "metadata": {},
   "outputs": [],
   "source": [
    "fig, axs = plt.subplots(2, 2,figsize=(15,15))\n",
    "axs[0,0].plot([c[0] for c in controller.track.track_centers],[c[1] for c in controller.track.track_centers])\n",
    "axs[0,0].scatter([g.position.x_val for g in gate_poses],[g.position.y_val for g in gate_poses])\n",
    "for (g,d) in zip(gate_poses,gate_directions):\n",
    "    axs[0,0].plot([g.position.x_val, g.position.x_val+d.x_val],[g.position.y_val, g.position.y_val+d.y_val],c=\"red\")\n",
    "axs[0,0].axis('equal')\n",
    "\n",
    "axs[1,0].plot([c[0] for c in controller.track.track_centers],[c[2] for c in controller.track.track_centers])\n",
    "axs[1,0].scatter([g.position.x_val for g in gate_poses],[g.position.z_val for g in gate_poses])\n",
    "for (g,d) in zip(gate_poses,gate_directions):\n",
    "    axs[1,0].plot([g.position.x_val, g.position.x_val+d.x_val],[g.position.z_val, g.position.z_val+d.z_val],c=\"red\")\n",
    "axs[1,0].axis('equal')\n",
    "\n",
    "axs[0,1].plot([c[2] for c in controller.track.track_centers],[c[1] for c in controller.track.track_centers])\n",
    "axs[0,1].scatter([g.position.z_val for g in gate_poses],[g.position.y_val for g in gate_poses])\n",
    "for (g,d) in zip(gate_poses,gate_directions):\n",
    "    axs[0,1].plot([g.position.z_val, g.position.z_val+d.z_val],[g.position.y_val, g.position.y_val+d.y_val],c=\"red\")\n",
    "axs[0,1].axis('equal')\n",
    "axs[0,1].set_ylim(ymin=4,ymax=89)\n",
    "# axs[0,1].set_ylim(ymin=axs[0,0].get_ylim()[0],ymax=axs[0,0].get_ylim()[1])\n",
    "plt.show()"
   ]
  },
  {
   "cell_type": "markdown",
   "metadata": {},
   "source": [
    "# visualize GTP trajectories"
   ]
  },
  {
   "cell_type": "code",
   "execution_count": null,
   "metadata": {},
   "outputs": [],
   "source": [
    "# start_pos = start_state.kinematics_estimated.position\n",
    "# p0 = [start_pos.x_val, start_pos.y_val, start_pos.z_val]\n",
    "# joint_p0 = np.concatenate([p0-np.array([[2,0,0]]),p0+np.array([[2,0,0]])])\n",
    "# # ego_id = 1; opp_id = 0;\n",
    "# ego_id = 0; opp_id = 1;\n",
    "# base_traj = controller.init_trajectory(ego_id,joint_p0[ego_id,:])\n",
    "# # ego_traj = controller.iterative_br(ego_id,joint_p0,n_game_iterations=5)\n",
    "# # opp_traj = controller.iterative_br(opp_id,joint_p0,n_game_iterations=5)\n",
    "# # # ego_traj = controller.best_response(ego_id,joint_p0,[ego_traj,opp_traj])"
   ]
  },
  {
   "cell_type": "code",
   "execution_count": null,
   "metadata": {},
   "outputs": [],
   "source": [
    "# base_traj[1,:]"
   ]
  },
  {
   "cell_type": "code",
   "execution_count": null,
   "metadata": {},
   "outputs": [],
   "source": [
    "# plt.figure(figsize=(12,8))\n",
    "# plt.scatter([g.position.x_val for g in gate_poses],[g.position.y_val for g in gate_poses])\n",
    "# plt.scatter([g.position.x_val + d.x_val for (g,d) in zip(gate_poses,gate_directions)],\n",
    "#             [g.position.y_val + d.y_val for (g,d) in zip(gate_poses,gate_directions)])\n",
    "# plt.plot(base_traj[:,0],base_traj[:,1],\"black\")\n",
    "# # plt.plot(opp_traj[:,0],opp_traj[:,1],\"red\")\n",
    "# # plt.plot(ego_traj[:,0],ego_traj[:,1],\"green\")\n",
    "# plt.axis('equal')\n",
    "# plt.show()"
   ]
  },
  {
   "cell_type": "markdown",
   "metadata": {},
   "source": [
    "# visualize global trajectories"
   ]
  },
  {
   "cell_type": "code",
   "execution_count": null,
   "metadata": {},
   "outputs": [],
   "source": [
    "import julia\n",
    "from julia import Main\n",
    "from julia import DroneRacing as dr"
   ]
  },
  {
   "cell_type": "code",
   "execution_count": null,
   "metadata": {},
   "outputs": [],
   "source": [
    "class GlobalTrajectoryOptimizer():\n",
    "    def __init__(self,traj_params, drone_params, gate_poses, gate_inner_dims, gate_outer_dims):\n",
    "        self.traj_params = traj_params\n",
    "        self.drone_params = drone_params\n",
    "        self.gate_poses = gate_poses\n",
    "        self.gate_inner_dims = gate_inner_dims\n",
    "        self.gate_outer_dims = gate_outer_dims\n",
    "        \n",
    "    def quat_to_julia_vec(self,quat):\n",
    "        vec = [\n",
    "            quat.w_val,\n",
    "            quat.z_val,\n",
    "            quat.x_val,\n",
    "            quat.y_val\n",
    "        ]\n",
    "        return vec\n",
    "    \n",
    "    def pos_to_julia_vec(self,pos):\n",
    "        vec = [\n",
    "            pos.x_val,\n",
    "            pos.y_val,\n",
    "            pos.z_val\n",
    "        ]\n",
    "        return vec\n",
    "\n",
    "    def compute_global_optimal_trajectory(self,start_state,\n",
    "        gate_idxs=[],**kwargs):\n",
    "        # Get current state\n",
    "        start_pos = start_state.kinematics_estimated.position\n",
    "        start_vel = start_state.kinematics_estimated.linear_velocity\n",
    "        ####################### Pass information to Julia ######################\n",
    "        Main.start_pos = [start_pos.x_val, start_pos.y_val, start_pos.z_val]\n",
    "        Main.start_vel = [start_vel.x_val, start_vel.y_val, start_vel.z_val]\n",
    "        Main.traj_opt_model = dr.VariableTimeParticleTrajOptModel(\n",
    "            start_pos = [start_pos.x_val, start_pos.y_val, start_pos.z_val],\n",
    "            start_vel = [start_vel.x_val, start_vel.y_val, start_vel.z_val],\n",
    "            MAX_VEL = self.traj_params.v_max,\n",
    "            MAX_ACCEL = self.traj_params.a_max,\n",
    "            n = self.traj_params.n,\n",
    "            dt_min = self.traj_params.dt_min,\n",
    "            dt = self.traj_params.dt,\n",
    "            r_safe = self.traj_params.r_safe,\n",
    "            **kwargs # n, dt_min, t0, ...\n",
    "        )\n",
    "        if len(gate_idxs) == 0:\n",
    "            gate_idxs = range(len(self.gate_poses))\n",
    "        for gate_idx in gate_idxs:\n",
    "            pose = self.gate_poses[gate_idx]\n",
    "            pos = self.pos_to_julia_vec(pose.position)\n",
    "            orientation = self.quat_to_julia_vec(pose.orientation)\n",
    "#             print(\"position:\", pos)\n",
    "#             print(\"orientation:\", orientation)\n",
    "\n",
    "            inner_width = [\n",
    "                self.gate_inner_dims.y_val, # rearrange because gates point along y-direction\n",
    "                self.gate_inner_dims.x_val,\n",
    "                self.gate_inner_dims.z_val]\n",
    "            Main.gate = dr.Gate3D(pos,orientation,inner_width)\n",
    "            dr.add_gate(Main.traj_opt_model,Main.gate)\n",
    "            # Main.eval(\"push!(traj_opt_model.gates, gate)\")\n",
    "        ########################################################################\n",
    "        ######################### Optimize Ipopt model #########################\n",
    "        Main.JuMP_model = dr.formulate_global_traj_opt_problem(Main.traj_opt_model)\n",
    "        # Main.eval(\"DroneRacing.optimize_trajectory!(traj_opt_model,JuMP_model)\")\n",
    "        dr.optimize_trajectory(Main.traj_opt_model,Main.JuMP_model)\n",
    "        ########################################################################\n",
    "        if self.traj_params.resample:\n",
    "            # resample with a constant timestep\n",
    "            pos,vel,accel,t_vec = dr.resample_traj_exact(Main.traj_opt_model,Main.JuMP_model)\n",
    "        else:\n",
    "            # leave with a variable time step\n",
    "            pos = dr.get_x(Main.traj_opt_model,Main.JuMP_model)\n",
    "            vel = dr.get_v(Main.traj_opt_model,Main.JuMP_model)\n",
    "            accel = dr.get_a(Main.traj_opt_model,Main.JuMP_model)\n",
    "            t_vec = dr.get_t_vec(Main.traj_opt_model,Main.JuMP_model)\n",
    "        return hum_drum_racer.Trajectory(pos,vel,accel,t_vec)"
   ]
  },
  {
   "cell_type": "code",
   "execution_count": null,
   "metadata": {},
   "outputs": [],
   "source": [
    "optimizer = hum_drum_racer.GlobalTrajectoryOptimizer(traj_params,drone_params[1],gate_poses,gate_inner_dims,gate_outer_dims)"
   ]
  },
  {
   "cell_type": "code",
   "execution_count": null,
   "metadata": {},
   "outputs": [],
   "source": [
    "optimizer.traj_params.r_safe = 0.2\n",
    "optimizer.traj_params.dt = 0.1\n",
    "traj = optimizer.compute_global_optimal_trajectory(start_state)\n",
    "pos = traj.pos\n",
    "vel = traj.vel\n",
    "accel = traj.accel\n",
    "t_vec = traj.t_vec"
   ]
  },
  {
   "cell_type": "code",
   "execution_count": null,
   "metadata": {},
   "outputs": [],
   "source": [
    "fig, axs = plt.subplots(2, 2,figsize=(15,15))\n",
    "axs[0,0].plot([p[0] for p in pos],[p[1] for p in pos])\n",
    "axs[0,0].scatter([g.position.x_val for g in gate_poses],[g.position.y_val for g in gate_poses])\n",
    "for (g,d) in zip(gate_poses,gate_directions):\n",
    "    axs[0,0].plot([g.position.x_val, g.position.x_val+d.x_val],[g.position.y_val, g.position.y_val+d.y_val],c=\"red\")\n",
    "axs[0,0].axis('equal')\n",
    "\n",
    "axs[1,0].plot([p[0] for p in pos],[p[2] for p in pos])\n",
    "axs[1,0].scatter([g.position.x_val for g in gate_poses],[g.position.z_val for g in gate_poses])\n",
    "for (g,d) in zip(gate_poses,gate_directions):\n",
    "    axs[1,0].plot([g.position.x_val, g.position.x_val+d.x_val],[g.position.z_val, g.position.z_val+d.z_val],c=\"red\")\n",
    "axs[1,0].axis('equal')\n",
    "\n",
    "axs[0,1].plot([p[2] for p in pos],[p[1] for p in pos])\n",
    "axs[0,1].scatter([g.position.z_val for g in gate_poses],[g.position.y_val for g in gate_poses])\n",
    "for (g,d) in zip(gate_poses,gate_directions):\n",
    "    axs[0,1].plot([g.position.z_val, g.position.z_val+d.z_val],[g.position.y_val, g.position.y_val+d.y_val],c=\"red\")\n",
    "axs[0,1].axis('equal')\n",
    "axs[0,1].set_ylim(ymin=4,ymax=89)\n",
    "# axs[0,1].set_ylim(ymin=axs[0,0].get_ylim()[0],ymax=axs[0,0].get_ylim()[1])\n",
    "plt.show()"
   ]
  },
  {
   "cell_type": "code",
   "execution_count": null,
   "metadata": {},
   "outputs": [],
   "source": [
    "# pos,vel,accel,t_vec = optimizer.compute_global_optimal_trajectory(start_state,\n",
    "#     n = 5,\n",
    "#     dt_min = 0.05)"
   ]
  },
  {
   "cell_type": "code",
   "execution_count": null,
   "metadata": {
    "scrolled": false
   },
   "outputs": [],
   "source": [
    "# p0 = traj.pos[15,:] + [0.0,0.0,1.0]\n",
    "# step = truncate_traj(p0,traj.pos,step=step)\n",
    "# step"
   ]
  },
  {
   "cell_type": "code",
   "execution_count": null,
   "metadata": {},
   "outputs": [],
   "source": [
    "# def truncate_traj(pos,traj,truncate_distance=0.05,step=1,horizon=10):\n",
    "#     p1 = traj[step,:]\n",
    "#     for k in range(step,traj.shape[0]-horizon):\n",
    "#         p2 = traj[k+1,:]\n",
    "#         dp = (p1-p2) / np.linalg.norm(p1-p2)\n",
    "#         if dp.dot(pos-p2) > truncate_distance:\n",
    "#             return k\n",
    "#     return step"
   ]
  },
  {
   "cell_type": "code",
   "execution_count": null,
   "metadata": {},
   "outputs": [],
   "source": [
    "plt.figure(figsize=(12,8))\n",
    "plt.scatter([p[0] for p in pos],[p[1] for p in pos],marker=\"x\")\n",
    "plt.plot([p[0] for p in pos],[p[1] for p in pos])\n",
    "plt.scatter([g.position.x_val for g in gate_poses],[g.position.y_val for g in gate_poses])\n",
    "plt.scatter([g.position.x_val + d.x_val for (g,d) in zip(gate_poses,gate_directions)],\n",
    "            [g.position.y_val + d.y_val for (g,d) in zip(gate_poses,gate_directions)])\n",
    "plt.scatter([p0[0]],[p0[1]],c=\"cyan\")\n",
    "# plt.scatter([pos[k_truncate,0]],[pos[k_truncate,1]],c=\"red\")\n",
    "# plt.plot(ego_traj[:,0],ego_traj[:,1],\"red\")\n",
    "plt.axis('equal')\n",
    "plt.show()"
   ]
  },
  {
   "cell_type": "code",
   "execution_count": null,
   "metadata": {},
   "outputs": [],
   "source": [
    "# s_ego = np.cumsum(np.sqrt(np.sum(np.square(np.diff(ego_traj,axis=0)),axis=1)))\n",
    "# t_ego = np.cumsum([controller.dt for s in s_ego])"
   ]
  },
  {
   "cell_type": "code",
   "execution_count": null,
   "metadata": {},
   "outputs": [],
   "source": [
    "s_global = np.cumsum([np.linalg.norm(v)*d for (v,d) in zip(vel,np.diff(t_vec))])\n",
    "t_global = t_vec[0:-1]\n",
    "plt.plot(t_global,s_global)\n",
    "# plt.plot(t_ego,s_ego)\n",
    "plt.show()"
   ]
  },
  {
   "cell_type": "code",
   "execution_count": null,
   "metadata": {},
   "outputs": [],
   "source": [
    "fig, axs = plt.subplots(1,2,figsize=(15,4))\n",
    "axs[0].plot(t_vec,vel)\n",
    "axs[0].plot(t_vec,[np.linalg.norm(v) for v in vel])\n",
    "axs[1].plot(t_vec,accel)\n",
    "plt.show()"
   ]
  },
  {
   "cell_type": "code",
   "execution_count": null,
   "metadata": {},
   "outputs": [],
   "source": [
    "np.cumsum(np.concatenate([[0.0], [0.1,0.1,0.1]]))"
   ]
  },
  {
   "cell_type": "code",
   "execution_count": null,
   "metadata": {},
   "outputs": [],
   "source": [
    "np.arange(0.0,1.0,0.1)"
   ]
  },
  {
   "cell_type": "code",
   "execution_count": null,
   "metadata": {},
   "outputs": [],
   "source": []
  }
 ],
 "metadata": {
  "kernelspec": {
   "display_name": "drone_racing",
   "language": "python",
   "name": "drone_racing"
  },
  "language_info": {
   "codemirror_mode": {
    "name": "ipython",
    "version": 3
   },
   "file_extension": ".py",
   "mimetype": "text/x-python",
   "name": "python",
   "nbconvert_exporter": "python",
   "pygments_lexer": "ipython3",
   "version": "3.6.3"
  }
 },
 "nbformat": 4,
 "nbformat_minor": 2
}
