{
 "cells": [
  {
   "cell_type": "code",
   "execution_count": 1,
   "metadata": {},
   "outputs": [],
   "source": [
    "from scipy.interpolate import CubicSpline, CubicHermiteSpline\n",
    "import argparse\n",
    "import airsimneurips as airsim\n",
    "import cvxpy as cp\n",
    "import numpy as np\n",
    "import time\n",
    "import airsimneurips as airsim\n",
    "import gtp\n",
    "import baseline_racer\n",
    "import baseline_racer_gtp\n",
    "import hum_drum_racer\n",
    "%matplotlib inline\n",
    "import matplotlib.pyplot as plt"
   ]
  },
  {
   "cell_type": "code",
   "execution_count": 2,
   "metadata": {},
   "outputs": [],
   "source": [
    "gate_pose_dicts = [ {   'orientation':  {   'w_val': 1.0,\n",
    "    'x_val': -0.0,\n",
    "    'y_val': 0.0,\n",
    "    'z_val': 0.0},\n",
    "    'position':  {   'x_val': 0.0,\n",
    "    'y_val': 2.0,\n",
    "    'z_val': 2.0199999809265137}},  {   'orientation':  {   'w_val': 0.9659256935119629,\n",
    "    'x_val': 0.0,\n",
    "    'y_val': -0.0,\n",
    "    'z_val': -0.2588196396827698},\n",
    "    'position':  {   'x_val': 1.5999999046325684,\n",
    "    'y_val': 10.800000190734863,\n",
    "    'z_val': 2.0199999809265137}},  {   'orientation':  {   'w_val': 0.8660249710083008,\n",
    "    'x_val': 0.0,\n",
    "    'y_val': -0.0,\n",
    "    'z_val': -0.5000007152557373},\n",
    "    'position':  {   'x_val': 8.887084007263184,\n",
    "    'y_val': 18.478761672973633,\n",
    "    'z_val': 2.0199999809265137}},  {   'orientation':  {   'w_val': 0.7071061134338379,\n",
    "    'x_val': 0.0,\n",
    "    'y_val': -0.0,\n",
    "    'z_val': -0.7071074843406677},\n",
    "    'position':  {   'x_val': 18.74375343322754,\n",
    "    'y_val': 22.20650863647461,\n",
    "    'z_val': 2.0199999809265137}},  {   'orientation':  {   'w_val': 0.7071061134338379,\n",
    "    'x_val': 0.0,\n",
    "    'y_val': -0.0,\n",
    "    'z_val': -0.7071074843406677},\n",
    "    'position':  {   'x_val': 30.04375457763672,\n",
    "    'y_val': 22.20648956298828,\n",
    "    'z_val': 2.0199999809265137}},  {   'orientation':  {   'w_val': 0.4999988079071045,\n",
    "    'x_val': 0.0,\n",
    "    'y_val': -0.0,\n",
    "    'z_val': -0.8660261034965515},\n",
    "    'position':  {   'x_val': 39.04375457763672,\n",
    "    'y_val': 19.206478118896484,\n",
    "    'z_val': 2.0199999809265137}},  {   'orientation':  {   'w_val': 0.17364656925201416,\n",
    "    'x_val': 0.0,\n",
    "    'y_val': -0.0,\n",
    "    'z_val': -0.9848079681396484},\n",
    "    'position':  {   'x_val': 45.74375534057617,\n",
    "    'y_val': 11.706478118896484,\n",
    "    'z_val': 2.0199999809265137}},  {   'orientation':  {   'w_val': 1.8477439880371094e-06,\n",
    "    'x_val': -0.0,\n",
    "    'y_val': 0.0,\n",
    "    'z_val': 1.0},\n",
    "    'position':  {   'x_val': 45.74375534057617,\n",
    "    'y_val': 2.2064781188964844,\n",
    "    'z_val': 2.0199999809265137}},  {   'orientation':  {   'w_val': 0.5000025629997253,\n",
    "    'x_val': -0.0,\n",
    "    'y_val': 0.0,\n",
    "    'z_val': 0.8660238981246948},\n",
    "    'position':  {   'x_val': 40.343753814697266,\n",
    "    'y_val': -4.793521404266357,\n",
    "    'z_val': 2.0199999809265137}},  {   'orientation':  {   'w_val': 0.7071094512939453,\n",
    "    'x_val': -0.0,\n",
    "    'y_val': 0.0,\n",
    "    'z_val': 0.7071040272712708},\n",
    "    'position':  {   'x_val': 30.74375343322754,\n",
    "    'y_val': -7.893521785736084,\n",
    "    'z_val': 2.0199999809265137}},  {   'orientation':  {   'w_val': 0.7071094512939453,\n",
    "    'x_val': -0.0,\n",
    "    'y_val': 0.0,\n",
    "    'z_val': 0.7071040272712708},\n",
    "    'position':  {   'x_val': 18.54375457763672,\n",
    "    'y_val': -7.893521785736084,\n",
    "    'z_val': 2.0199999809265137}},  {   'orientation':  {   'w_val': 0.8191542029380798,\n",
    "    'x_val': -0.0,\n",
    "    'y_val': 0.0,\n",
    "    'z_val': 0.5735733509063721},\n",
    "    'position':  {   'x_val': 9.543754577636719,\n",
    "    'y_val': -5.093521595001221,\n",
    "    'z_val': 2.0199999809265137}}]\n",
    "gate_inner_dims_dict= {   'x_val': 1.6,\n",
    "    'y_val': 0.2,\n",
    "    'z_val': 1.6}\n",
    "gate_outer_dims_dict= {   'x_val': 2.1333333333333333,\n",
    "    'y_val': 0.2,\n",
    "    'z_val': 2.1333333333333333}"
   ]
  },
  {
   "cell_type": "code",
   "execution_count": 3,
   "metadata": {},
   "outputs": [],
   "source": [
    "# airsim.Quaternionr(x_val,y_val,z_val,w_val) # quaternion ordering\n",
    "gate_poses = [\n",
    "    airsim.Pose(\n",
    "        airsim.Vector3r(\n",
    "            d['position']['x_val'],\n",
    "            d['position']['y_val'],\n",
    "            d['position']['z_val']\n",
    "        ),\n",
    "        airsim.Quaternionr(\n",
    "            d['orientation']['x_val'],\n",
    "            d['orientation']['y_val'],\n",
    "            d['orientation']['z_val'],\n",
    "            d['orientation']['w_val']\n",
    "        )\n",
    "    ) for d in gate_pose_dicts\n",
    "]\n",
    "gate_inner_dims = airsim.Vector3r(\n",
    "    gate_inner_dims_dict['x_val'],\n",
    "    gate_inner_dims_dict['y_val'],\n",
    "    gate_inner_dims_dict['z_val'],\n",
    ")\n",
    "gate_outer_dims = airsim.Vector3r(\n",
    "    gate_outer_dims_dict['x_val'],\n",
    "    gate_outer_dims_dict['y_val'],\n",
    "    gate_outer_dims_dict['z_val'],\n",
    ")\n",
    "gate_directions = [gtp.rotate_vector(g.orientation, airsim.Vector3r(0,1,0)) for g in gate_poses]\n",
    "\n",
    "drone_names = [\"drone_1\", \"drone_2\"]\n",
    "# drone_params = [\n",
    "#     {\"r_safe\": 0.5,\n",
    "#      \"r_coll\": 0.5,\n",
    "#      \"v_max\": 80.0,\n",
    "#      \"a_max\": 40.0},\n",
    "#     {\"r_safe\": 0.4,\n",
    "#      \"r_coll\": 0.3,\n",
    "#      \"v_max\": 20.0,\n",
    "#      \"a_max\": 10.0}]\n",
    "drone_params = [\n",
    "    {\"r_safe\": 0.4,\n",
    "     \"r_coll\": 0.3,\n",
    "     \"v_max\": 20.0,\n",
    "     \"a_max\": 15.0},\n",
    "    {\"r_safe\": 0.4,\n",
    "     \"r_coll\": 0.3,\n",
    "     \"v_max\": 20.0,\n",
    "     \"a_max\": 15.0}]\n",
    "parser = argparse.ArgumentParser(description='')\n",
    "parser.add_argument('--dt', type=float, default=0.05)\n",
    "parser.add_argument('--n', type=int, default=14)\n",
    "parser.add_argument('--blocking_behavior', dest='blocking', action='store_true', default=False)\n",
    "parser.add_argument('--vel_constraints', dest='vel_constraints', action='store_true', default=False)\n",
    "parser.add_argument('--plot_gtp', dest='plot_gtp', action='store_true', default=False)\n",
    "parser.add_argument('--level_name', type=str, choices=[\"Soccer_Field_Easy\", \"Soccer_Field_Medium\", \"ZhangJiaJie_Medium\", \"Building99_Hard\", \n",
    "    \"Qualifier_Tier_1\", \"Qualifier_Tier_2\", \"Qualifier_Tier_3\"], default=\"ZhangJiaJie_Medium\")\n",
    "parser.add_argument('--enable_viz_traj', dest='viz_traj', action='store_true', default=False)\n",
    "parser.add_argument('--race_tier', type=int, choices=[1,2,3], default=1)\n",
    "traj_params = parser.parse_known_args()[0]\n",
    "\n",
    "start_state = airsim.MultirotorState()"
   ]
  },
  {
   "cell_type": "code",
   "execution_count": 4,
   "metadata": {},
   "outputs": [],
   "source": [
    "controller = gtp.IBRController(traj_params,drone_params,gate_poses)"
   ]
  },
  {
   "cell_type": "code",
   "execution_count": 5,
   "metadata": {},
   "outputs": [
    {
     "data": {
      "image/png": "[encoded data removed]",
      "text/plain": [
       "<Figure size 720x720 with 4 Axes>"
      ]
     },
     "metadata": {
      "needs_background": "light"
     },
     "output_type": "display_data"
    }
   ],
   "source": [
    "fig, axs = plt.subplots(2, 2,figsize=(10,10))\n",
    "axs[0,0].plot([c[0] for c in controller.track.track_centers],[c[1] for c in controller.track.track_centers])\n",
    "axs[0,0].scatter([g.position.x_val for g in gate_poses],[g.position.y_val for g in gate_poses])\n",
    "axs[0,0].scatter([g.position.x_val + d.x_val for (g,d) in zip(gate_poses,gate_directions)],\n",
    "            [g.position.y_val + d.y_val for (g,d) in zip(gate_poses,gate_directions)])\n",
    "axs[0,0].axis('equal')\n",
    "\n",
    "axs[1,0].plot([c[0] for c in controller.track.track_centers],[c[2] for c in controller.track.track_centers])\n",
    "axs[1,0].scatter([g.position.x_val for g in gate_poses],[g.position.z_val for g in gate_poses])\n",
    "axs[1,0].scatter([g.position.x_val + d.x_val for (g,d) in zip(gate_poses,gate_directions)],\n",
    "            [g.position.z_val + d.z_val for (g,d) in zip(gate_poses,gate_directions)])\n",
    "axs[1,0].axis('equal')\n",
    "\n",
    "axs[0,1].plot([c[2] for c in controller.track.track_centers],[c[1] for c in controller.track.track_centers])\n",
    "axs[0,1].scatter([g.position.z_val for g in gate_poses],[g.position.y_val for g in gate_poses])\n",
    "axs[0,1].scatter([g.position.z_val + d.z_val for (g,d) in zip(gate_poses,gate_directions)],\n",
    "            [g.position.y_val + d.y_val for (g,d) in zip(gate_poses,gate_directions)])\n",
    "axs[0,1].axis('equal')\n",
    "axs[0,1].set_ylim(ymin=-18,ymax=32)\n",
    "# axs[0,1].set_ylim(ymin=axs[0,0].get_ylim()[0],ymax=axs[0,0].get_ylim()[1])\n",
    "plt.show()"
   ]
  },
  {
   "cell_type": "markdown",
   "metadata": {},
   "source": [
    "# visualize GTP trajectories"
   ]
  },
  {
   "cell_type": "code",
   "execution_count": 6,
   "metadata": {},
   "outputs": [
    {
     "name": "stdout",
     "output_type": "stream",
     "text": [
      "WARN: relaxing track constraints\n",
      "WARN: relaxing track constraints\n",
      "WARN: relaxing track constraints\n",
      "WARN: relaxing track constraints\n",
      "WARN: relaxing track constraints\n",
      "WARN: relaxing track constraints\n",
      "WARN: relaxing track constraints\n",
      "WARN: relaxing track constraints\n",
      "WARN: relaxing track constraints\n",
      "WARN: relaxing track constraints\n",
      "WARN: relaxing track constraints\n",
      "WARN: relaxing track constraints\n",
      "WARN: relaxing track constraints\n",
      "WARN: relaxing track constraints\n",
      "WARN: relaxing track constraints\n",
      "WARN: relaxing track constraints\n",
      "WARN: relaxing track constraints\n",
      "WARN: relaxing track constraints\n",
      "WARN: relaxing track constraints\n",
      "Total IBR solution time:  6.821727275848389\n",
      "WARN: relaxing track constraints\n",
      "WARN: relaxing track constraints\n",
      "WARN: relaxing track constraints\n",
      "WARN: relaxing track constraints\n",
      "WARN: relaxing track constraints\n",
      "WARN: relaxing track constraints\n",
      "WARN: relaxing track constraints\n",
      "WARN: relaxing track constraints\n",
      "WARN: relaxing track constraints\n",
      "WARN: relaxing track constraints\n",
      "WARN: relaxing track constraints\n",
      "WARN: relaxing track constraints\n",
      "WARN: relaxing track constraints\n",
      "WARN: relaxing track constraints\n",
      "WARN: relaxing track constraints\n",
      "WARN: relaxing track constraints\n",
      "WARN: relaxing track constraints\n",
      "WARN: relaxing track constraints\n",
      "WARN: relaxing track constraints\n",
      "Total IBR solution time:  6.823080778121948\n"
     ]
    }
   ],
   "source": [
    "start_pos = start_state.kinematics_estimated.position\n",
    "p0 = [start_pos.x_val, start_pos.y_val, start_pos.z_val]\n",
    "joint_p0 = np.concatenate([p0-np.array([[2,0,0]]),p0+np.array([[2,0,0]])])\n",
    "# ego_id = 1; opp_id = 0;\n",
    "ego_id = 0; opp_id = 1;\n",
    "base_traj = controller.init_trajectory(ego_id,joint_p0[ego_id,:])\n",
    "ego_traj = controller.iterative_br(ego_id,joint_p0,n_game_iterations=5)\n",
    "opp_traj = controller.iterative_br(opp_id,joint_p0,n_game_iterations=5)\n",
    "# ego_traj = controller.best_response(ego_id,joint_p0,[ego_traj,opp_traj])"
   ]
  },
  {
   "cell_type": "code",
   "execution_count": 8,
   "metadata": {},
   "outputs": [
    {
     "data": {
      "image/png": "[encoded data removed]",
      "text/plain": [
       "<Figure size 864x576 with 1 Axes>"
      ]
     },
     "metadata": {
      "needs_background": "light"
     },
     "output_type": "display_data"
    }
   ],
   "source": [
    "plt.figure(figsize=(12,8))\n",
    "plt.scatter([g.position.x_val for g in gate_poses],[g.position.y_val for g in gate_poses])\n",
    "plt.scatter([g.position.x_val + d.x_val for (g,d) in zip(gate_poses,gate_directions)],\n",
    "            [g.position.y_val + d.y_val for (g,d) in zip(gate_poses,gate_directions)])\n",
    "plt.plot(base_traj[:,0],base_traj[:,1],\"black\")\n",
    "plt.plot(opp_traj[:,0],opp_traj[:,1],\"red\")\n",
    "plt.plot(ego_traj[:,0],ego_traj[:,1],\"green\")\n",
    "plt.axis('equal')\n",
    "plt.show()"
   ]
  },
  {
   "cell_type": "markdown",
   "metadata": {},
   "source": [
    "# visualize global trajectories"
   ]
  },
  {
   "cell_type": "code",
   "execution_count": null,
   "metadata": {},
   "outputs": [],
   "source": [
    "optimizer = hum_drum_racer.GlobalTrajectoryOptimizer(traj_params,drone_params[1],gate_poses,gate_inner_dims,gate_outer_dims)"
   ]
  },
  {
   "cell_type": "code",
   "execution_count": null,
   "metadata": {},
   "outputs": [],
   "source": [
    "pos,vel,accel,dt = optimizer.compute_global_optimal_trajectory(start_state,\n",
    "    n = 5,\n",
    "    dt_min = 0.05)"
   ]
  },
  {
   "cell_type": "code",
   "execution_count": null,
   "metadata": {},
   "outputs": [],
   "source": [
    "plt.figure(figsize=(12,8))\n",
    "plt.scatter([p[0] for p in pos],[p[1] for p in pos],marker=\"x\")\n",
    "plt.plot([p[0] for p in pos],[p[1] for p in pos])\n",
    "plt.scatter([g.position.x_val for g in gate_poses],[g.position.y_val for g in gate_poses])\n",
    "plt.scatter([g.position.x_val + d.x_val for (g,d) in zip(gate_poses,gate_directions)],\n",
    "            [g.position.y_val + d.y_val for (g,d) in zip(gate_poses,gate_directions)])\n",
    "plt.plot(ego_traj[:,0],ego_traj[:,1],\"red\")\n",
    "plt.axis('equal')\n",
    "plt.show()"
   ]
  },
  {
   "cell_type": "code",
   "execution_count": null,
   "metadata": {},
   "outputs": [],
   "source": [
    "s_ego = np.cumsum(np.sqrt(np.sum(np.square(np.diff(ego_traj,axis=0)),axis=1)))\n",
    "t_ego = np.cumsum([controller.dt for s in s_ego])"
   ]
  },
  {
   "cell_type": "code",
   "execution_count": null,
   "metadata": {},
   "outputs": [],
   "source": [
    "s_global = np.cumsum([np.linalg.norm(v)*d for (v,d) in zip(vel,dt)])\n",
    "t_global = np.cumsum(dt)\n",
    "plt.plot(t_global,s_global)\n",
    "plt.plot(t_ego,s_ego)"
   ]
  },
  {
   "cell_type": "code",
   "execution_count": null,
   "metadata": {},
   "outputs": [],
   "source": [
    "fig, axs = plt.subplots(1,3,figsize=(10,4))\n",
    "axs[0].plot(vel)\n",
    "axs[0].plot([np.linalg.norm(v) for v in vel])\n",
    "axs[1].plot(accel)\n",
    "axs[2].plot(dt)\n",
    "plt.show()"
   ]
  },
  {
   "cell_type": "code",
   "execution_count": null,
   "metadata": {},
   "outputs": [],
   "source": []
  }
 ],
 "metadata": {
  "kernelspec": {
   "display_name": "drone_racing",
   "language": "python",
   "name": "drone_racing"
  },
  "language_info": {
   "codemirror_mode": {
    "name": "ipython",
    "version": 3
   },
   "file_extension": ".py",
   "mimetype": "text/x-python",
   "name": "python",
   "nbconvert_exporter": "python",
   "pygments_lexer": "ipython3",
   "version": "3.6.3"
  }
 },
 "nbformat": 4,
 "nbformat_minor": 2
}
